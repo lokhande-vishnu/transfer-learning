{
 "cells": [
  {
   "cell_type": "code",
   "execution_count": 1,
   "metadata": {
    "collapsed": false
   },
   "outputs": [
    {
     "name": "stderr",
     "output_type": "stream",
     "text": [
      "/u/l/o/lokhande/.local/lib/python2.7/site-packages/numpy/core/fromnumeric.py:2699: VisibleDeprecationWarning: `rank` is deprecated; use the `ndim` attribute or function instead. To find the rank of a matrix see `numpy.linalg.matrix_rank`.\n",
      "  VisibleDeprecationWarning)\n"
     ]
    }
   ],
   "source": [
    "import matplotlib.pyplot as plt\n",
    "import matplotlib as mpl\n",
    "import numpy as np\n",
    "\n",
    "from sklearn import datasets\n",
    "from sklearn import svm\n",
    "from sklearn.cross_validation import StratifiedKFold\n",
    "from sklearn.externals.six.moves import xrange\n",
    "from sklearn.mixture import GMM\n",
    "\n",
    "%matplotlib inline\n",
    "\n",
    "iris = datasets.load_iris()\n",
    "xtrain = iris.data\n",
    "ytrain = iris.target\n"
   ]
  },
  {
   "cell_type": "markdown",
   "metadata": {},
   "source": [
    "### Parameters"
   ]
  },
  {
   "cell_type": "code",
   "execution_count": 3,
   "metadata": {
    "collapsed": true
   },
   "outputs": [],
   "source": [
    "cg = 1;\n",
    "cgg = 0.5;\n",
    "lam = 1;\n",
    "eta = 100;"
   ]
  },
  {
   "cell_type": "code",
   "execution_count": 7,
   "metadata": {
    "collapsed": false
   },
   "outputs": [],
   "source": [
    "def rmse(predictions, targets):\n",
    "    return np.sqrt(((predictions - targets) ** 2).mean())\n",
    "\n",
    "def kernel(A, B):\n",
    "    return cg*np.exp(-cgg*np.dot(A,B.transpose()))\n",
    "\n",
    "def innerm(x):\n",
    "    return np.dot(x[:,None],x[:,None].transpose()) "
   ]
  },
  {
   "cell_type": "code",
   "execution_count": 8,
   "metadata": {
    "collapsed": true
   },
   "outputs": [],
   "source": [
    "# Test dataset creation\n",
    "xtest = 3*xtrain + 4\n",
    "np.random.seed(0)\n",
    "indices = np.random.permutation(xtrain.shape[0])\n",
    "xtestL = xtest[indices[:50],:]\n",
    "xtestU = xtest[indices[51:],:]\n",
    "ytestL = ytrain[indices[:50]]\n",
    "ytestU = ytrain[indices[51:]]"
   ]
  },
  {
   "cell_type": "code",
   "execution_count": 9,
   "metadata": {
    "collapsed": false
   },
   "outputs": [
    {
     "data": {
      "text/plain": [
       "list"
      ]
     },
     "execution_count": 9,
     "metadata": {},
     "output_type": "execute_result"
    }
   ],
   "source": [
    "w = np.ones(xtrain.shape[1], dtype=np.int)\n",
    "b = np.zeros(xtrain.shape[1], dtype=np.int)\n",
    "i = 0\n",
    "err = []\n",
    "type(err)"
   ]
  },
  {
   "cell_type": "code",
   "execution_count": 10,
   "metadata": {
    "collapsed": false
   },
   "outputs": [],
   "source": [
    "while i < 1:\n",
    "    i = i+1\n",
    "\n",
    "    ynew = ytrain*np.dot(xtrain, w) + np.dot(xtrain,b)\n",
    "    \n",
    "    X = np.concatenate((xtrain, xtestL), axis=0)\n",
    "    Y = np.concatenate((ynew, ytestL), axis=0)\n",
    "    clf = svm.SVC()\n",
    "    clf.fit(X, Y)\n",
    "    err.append(rmse(clf.predict(xtestU), ytestU))\n",
    "\n",
    "    dim = xtrain.shape[0] \n",
    "    Ltr = kernel(xtrain,xtrain)\n",
    "    Ltr2 = np.linalg.inv(Ltr + lam*np.identity(dim))\n",
    "    der_yyw = np.dot(ytrain[:,None],ytrain[:,None].transpose()) * np.dot(xtrain,np.dot(innerm(w),xtrain.transpose()))\n",
    "    der_yyb = np.dot(ytrain[:,None],ytrain[:,None].transpose()) * np.dot(xtrain,np.dot(innerm(b),xtrain.transpose()))\n",
    "\n",
    "    mat1_w =  -cgg*np.trace(np.dot(np.dot(np.dot(np.dot(Ltr2,Ltr),Ltr2), kernel(ynew[:,None],ynew[:,None])),der_yyw))\n",
    "    mat1_b =  -cgg*np.trace(np.dot(np.dot(np.dot(np.dot(Ltr2,Ltr),Ltr2), kernel(ynew[:,None],ynew[:,None])),der_yyb))\n",
    "\n",
    "    w = w - eta*(mat1_w*np.ones(w.shape[0]) + 2*(w-1))\n",
    "    b = b - eta*(mat1_b*np.ones(b.shape[0]) + 2*(b-1))"
   ]
  },
  {
   "cell_type": "code",
   "execution_count": 11,
   "metadata": {
    "collapsed": false
   },
   "outputs": [
    {
     "data": {
      "image/png": "[encoded data removed]",
      "text/plain": [
       "<matplotlib.figure.Figure at 0x7fa081d1fa10>"
      ]
     },
     "metadata": {},
     "output_type": "display_data"
    }
   ],
   "source": [
    "plt.plot(err)\n",
    "plt.show()"
   ]
  },
  {
   "cell_type": "code",
   "execution_count": 12,
   "metadata": {
    "collapsed": false
   },
   "outputs": [
    {
     "data": {
      "text/plain": [
       "SVC(C=1.0, cache_size=200, class_weight=None, coef0=0.0, degree=3, gamma=0.0,\n",
       "  kernel='rbf', max_iter=-1, probability=False, random_state=None,\n",
       "  shrinking=True, tol=0.001, verbose=False)"
      ]
     },
     "execution_count": 12,
     "metadata": {},
     "output_type": "execute_result"
    }
   ],
   "source": [
    "clf"
   ]
  }
 ],
 "metadata": {
  "kernelspec": {
   "display_name": "Python 2",
   "language": "python",
   "name": "python2"
  },
  "language_info": {
   "codemirror_mode": {
    "name": "ipython",
    "version": 2
   },
   "file_extension": ".py",
   "mimetype": "text/x-python",
   "name": "python",
   "nbconvert_exporter": "python",
   "pygments_lexer": "ipython2",
   "version": "2.7.6"
  }
 },
 "nbformat": 4,
 "nbformat_minor": 1
}
